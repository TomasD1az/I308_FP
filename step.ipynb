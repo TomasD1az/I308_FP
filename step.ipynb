{
 "cells": [
  {
   "cell_type": "code",
   "execution_count": null,
   "id": "63e63876",
   "metadata": {},
   "outputs": [],
   "source": [
    "import cv2\n",
    "import pickle\n",
    "from utils import show\n",
    "import numpy as np\n",
    "import glob\n",
    "import os\n",
    "import matplotlib.pyplot as plt"
   ]
  },
  {
   "cell_type": "code",
   "execution_count": 7,
   "id": "bb575455",
   "metadata": {},
   "outputs": [],
   "source": [
    "# 1️⃣ Cargar parámetros de calibración estéreo\n",
    "stereo_params_path = \"stereo_params.pkl\"\n",
    "with open(stereo_params_path, 'rb') as f:\n",
    "    stereo_data = pickle.load(f)\n",
    "\n",
    "K1 = stereo_data[\"K1\"]\n",
    "dist1 = stereo_data[\"dist1\"]\n",
    "K2 = stereo_data[\"K2\"]\n",
    "dist2 = stereo_data[\"dist2\"]\n",
    "R = stereo_data[\"R\"]\n",
    "T = stereo_data[\"T\"]\n",
    "P1 = stereo_data[\"P1\"]\n",
    "P2 = stereo_data[\"P2\"]\n",
    "map1x = stereo_data[\"map1x\"]\n",
    "map1y = stereo_data[\"map1y\"]\n",
    "map2x = stereo_data[\"map2x\"]\n",
    "map2y = stereo_data[\"map2y\"]\n",
    "image_size = stereo_data[\"image_size\"]"
   ]
  },
  {
   "cell_type": "code",
   "execution_count": 8,
   "id": "5f254f90",
   "metadata": {},
   "outputs": [],
   "source": [
    "# 2️⃣ Cargar primer par de imágenes estéreo\n",
    "left_img_path = \"datasets/captures/left_0.jpg\"\n",
    "right_img_path = \"datasets/captures/right_0.jpg\"\n",
    "\n",
    "left_img_raw = cv2.imread(left_img_path, cv2.IMREAD_GRAYSCALE)\n",
    "right_img_raw = cv2.imread(right_img_path, cv2.IMREAD_GRAYSCALE)"
   ]
  },
  {
   "cell_type": "code",
   "execution_count": 9,
   "id": "fa3d886a",
   "metadata": {},
   "outputs": [
    {
     "ename": "NameError",
     "evalue": "name 'show' is not defined",
     "output_type": "error",
     "traceback": [
      "\u001b[1;31m---------------------------------------------------------------------------\u001b[0m",
      "\u001b[1;31mNameError\u001b[0m                                 Traceback (most recent call last)",
      "Cell \u001b[1;32mIn[9], line 5\u001b[0m\n\u001b[0;32m      2\u001b[0m left_img \u001b[38;5;241m=\u001b[39m cv2\u001b[38;5;241m.\u001b[39mremap(left_img_raw, map1x, map1y, cv2\u001b[38;5;241m.\u001b[39mINTER_LINEAR)\n\u001b[0;32m      3\u001b[0m right_img \u001b[38;5;241m=\u001b[39m cv2\u001b[38;5;241m.\u001b[39mremap(right_img_raw, map2x, map2y, cv2\u001b[38;5;241m.\u001b[39mINTER_LINEAR)\n\u001b[1;32m----> 5\u001b[0m \u001b[43mshow\u001b[49m(left_img, \u001b[38;5;124m\"\u001b[39m\u001b[38;5;124mLeft rectified\u001b[39m\u001b[38;5;124m\"\u001b[39m)\n\u001b[0;32m      6\u001b[0m show(right_img, \u001b[38;5;124m\"\u001b[39m\u001b[38;5;124mRight rectified\u001b[39m\u001b[38;5;124m\"\u001b[39m)\n",
      "\u001b[1;31mNameError\u001b[0m: name 'show' is not defined"
     ]
    }
   ],
   "source": [
    "# 3️⃣ Rectificación del primer frame\n",
    "left_img = cv2.remap(left_img_raw, map1x, map1y, cv2.INTER_LINEAR)\n",
    "right_img = cv2.remap(right_img_raw, map2x, map2y, cv2.INTER_LINEAR)\n",
    "\n",
    "show(left_img, \"Left rectified\")\n",
    "show(right_img, \"Right rectified\")"
   ]
  },
  {
   "cell_type": "code",
   "execution_count": null,
   "id": "09a3056b",
   "metadata": {},
   "outputs": [],
   "source": [
    "# 4️⃣ Extracción y matching de features entre img izq y der\n",
    "sift = cv2.SIFT_create()\n",
    "kp1, des1 = sift.detectAndCompute(left_img, None)\n",
    "kp2, des2 = sift.detectAndCompute(right_img, None)\n",
    "\n",
    "# BFMatcher con L2 para SIFT\n",
    "top_matches = 2000\n",
    "matcher = cv2.BFMatcher(cv2.NORM_L2, crossCheck=True)\n",
    "matches = matcher.match(des1, des2)\n",
    "matches = sorted(matches, key=lambda x: x.distance)[:top_matches]\n",
    "\n",
    "# Visualizar matches\n",
    "img_matches = cv2.drawMatches(left_img, kp1, right_img, kp2, matches, None, flags=2)\n",
    "show(img_matches, \"Stereo matches (left ↔ right)\")"
   ]
  },
  {
   "cell_type": "code",
   "execution_count": null,
   "id": "576f30ae",
   "metadata": {},
   "outputs": [],
   "source": [
    "# 5️⃣ Triangulación inicial de puntos 3D\n",
    "# Preparamos puntos en formato Nx2\n",
    "pts1 = np.float32([kp1[m.queryIdx].pt for m in matches])\n",
    "pts2 = np.float32([kp2[m.trainIdx].pt for m in matches])\n",
    "\n",
    "# Convertir a coordenadas homogéneas para triangulación\n",
    "pts1_h = cv2.undistortPoints(np.expand_dims(pts1, axis=1), K1, dist1, P=P1)\n",
    "pts2_h = cv2.undistortPoints(np.expand_dims(pts2, axis=1), K2, dist2, P=P2)\n",
    "\n",
    "# Triangular\n",
    "points_4d_hom = cv2.triangulatePoints(P1, P2, pts1_h, pts2_h)\n",
    "points_3d = (points_4d_hom / points_4d_hom[3])[:3].T\n",
    "\n",
    "print(\"🔹 Puntos 3D triangulados:\", points_3d.shape)\n",
    "\n",
    "# Visualización simple de la nube de puntos (XY)\n",
    "plt.scatter(points_3d[:, 0], points_3d[:, 1], s=1)\n",
    "plt.title(\"Proyección XY de la nube de puntos inicial\")\n",
    "plt.axis(\"equal\")\n",
    "plt.show()"
   ]
  }
 ],
 "metadata": {
  "kernelspec": {
   "display_name": "Python 3",
   "language": "python",
   "name": "python3"
  },
  "language_info": {
   "codemirror_mode": {
    "name": "ipython",
    "version": 3
   },
   "file_extension": ".py",
   "mimetype": "text/x-python",
   "name": "python",
   "nbconvert_exporter": "python",
   "pygments_lexer": "ipython3",
   "version": "3.12.2"
  }
 },
 "nbformat": 4,
 "nbformat_minor": 5
}
